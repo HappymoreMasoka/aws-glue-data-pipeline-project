{
  "nbformat": 4,
  "nbformat_minor": 0,
  "metadata": {
    "colab": {
      "provenance": []
    },
    "kernelspec": {
      "name": "python3",
      "display_name": "Python 3"
    },
    "language_info": {
      "name": "python"
    }
  },
  "cells": [
    {
      "cell_type": "code",
      "source": [
        "import sys\n",
        "from awsglue.transforms import *\n",
        "from awsglue.utils import getResolvedOptions\n",
        "from pyspark.context import SparkContext\n",
        "from awsglue.context import GlueContext\n",
        "from awsglue.job import Job\n",
        "from awsgluedq.transforms import EvaluateDataQuality\n",
        "\n",
        "args = getResolvedOptions(sys.argv, ['JOB_NAME'])\n",
        "sc = SparkContext()\n",
        "glueContext = GlueContext(sc)\n",
        "spark = glueContext.spark_session\n",
        "job = Job(glueContext)\n",
        "job.init(args['JOB_NAME'], args)\n",
        "\n",
        "# Default ruleset used by all target nodes with data quality enabled\n",
        "DEFAULT_DATA_QUALITY_RULESET = \"\"\"\n",
        "    Rules = [\n",
        "        ColumnCount > 0\n",
        "    ]\n",
        "\"\"\"\n",
        "\n",
        "# Script generated for node albums\n",
        "albums_node1752882689693 = glueContext.create_dynamic_frame.from_options(format_options={\"quoteChar\": \"\\\"\", \"withHeader\": True, \"separator\": \",\"}, connection_type=\"s3\", format=\"csv\", connection_options={\"paths\": [\"s3://myprojectonglue/staging/albums.csv\"], \"recurse\": True}, transformation_ctx=\"albums_node1752882689693\")\n",
        "\n",
        "# Script generated for node artist\n",
        "artist_node1752882732016 = glueContext.create_dynamic_frame.from_options(format_options={\"quoteChar\": \"\\\"\", \"withHeader\": True, \"separator\": \",\"}, connection_type=\"s3\", format=\"csv\", connection_options={\"paths\": [\"s3://myprojectonglue/staging/artists.csv\"], \"recurse\": True}, transformation_ctx=\"artist_node1752882732016\")\n",
        "\n",
        "# Script generated for node tracks\n",
        "tracks_node1752882778505 = glueContext.create_dynamic_frame.from_options(format_options={\"quoteChar\": \"\\\"\", \"withHeader\": True, \"separator\": \",\"}, connection_type=\"s3\", format=\"csv\", connection_options={\"paths\": [\"s3://myprojectonglue/staging/track.csv\"], \"recurse\": True}, transformation_ctx=\"tracks_node1752882778505\")\n",
        "\n",
        "# Script generated for node Join album and artist\n",
        "Joinalbumandartist_node1752883432570 = Join.apply(frame1=albums_node1752882689693, frame2=artist_node1752882732016, keys1=[\"artist_id\"], keys2=[\"id\"], transformation_ctx=\"Joinalbumandartist_node1752883432570\")\n",
        "\n",
        "# Script generated for node Join with track\n",
        "Joinwithtrack_node1752883677789 = Join.apply(frame1=Joinalbumandartist_node1752883432570, frame2=tracks_node1752882778505, keys1=[\"track_id\"], keys2=[\"track_id\"], transformation_ctx=\"Joinwithtrack_node1752883677789\")\n",
        "\n",
        "# Script generated for node Drop Fields\n",
        "DropFields_node1752883920936 = DropFields.apply(frame=Joinwithtrack_node1752883677789, paths=[\"track_id\", \"id\"], transformation_ctx=\"DropFields_node1752883920936\")\n",
        "\n",
        "# Script generated for node datawarehouse\n",
        "EvaluateDataQuality().process_rows(frame=DropFields_node1752883920936, ruleset=DEFAULT_DATA_QUALITY_RULESET, publishing_options={\"dataQualityEvaluationContext\": \"EvaluateDataQuality_node1752882553778\", \"enableDataQualityResultsPublishing\": True}, additional_options={\"dataQualityResultsPublishing.strategy\": \"BEST_EFFORT\", \"observations.scope\": \"ALL\"})\n",
        "datawarehouse_node1752884229906 = glueContext.write_dynamic_frame.from_options(frame=DropFields_node1752883920936, connection_type=\"s3\", format=\"glueparquet\", connection_options={\"path\": \"s3://myprojectonglue/datawarehouse/\", \"partitionKeys\": []}, format_options={\"compression\": \"snappy\"}, transformation_ctx=\"datawarehouse_node1752884229906\")\n",
        "\n",
        "job.commit()"
      ],
      "metadata": {
        "id": "LfAP2vPXC8F0"
      },
      "execution_count": null,
      "outputs": []
    }
  ]
}